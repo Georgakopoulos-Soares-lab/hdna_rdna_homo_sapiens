{
 "cells": [
  {
   "cell_type": "code",
   "execution_count": 1,
   "id": "d7783dc8-94db-4783-b7b9-82b936fa8800",
   "metadata": {},
   "outputs": [],
   "source": [
    "import pandas as pd\n",
    "import numpy as np\n",
    "import math\n",
    "import matplotlib.pyplot as plt\n",
    "import seaborn as sns\n",
    "import tempfile\n",
    "import subprocess\n",
    "from tqdm import tqdm\n",
    "import os\n",
    "import subprocess\n",
    "from pathlib import Path\n",
    "import re\n",
    "\n",
    "IS_SERVER = 1\n",
    "if IS_SERVER:\n",
    "    REGEX_PATH = Path(\"/storage/group/izg5139/default/nicole/MirrorRTR/chm13v2_regex_motifs.txt\")\n",
    "    G4_PATH = Path(\"/storage/group/izg5139/default/nicole/MirrorRTR/g4_results/chm13v2_g4hunter.txt\")\n",
    "    MIRROR_PATH = Path(\"/storage/group/izg5139/default/nicole/transfer_mirror/mirrors/chm13v2.0_MR.processed.tsv\")\n",
    "    CENTROMERE_PATH = Path(\"/storage/group/izg5139/default/nicole/transfer_mirror/primates/centromeres/chm13v2.0_censat_v2.0.bed\")\n",
    "    TELOMERE_PATH = Path(\"/storage/group/izg5139/default/nicole/transfer_mirror/primates/telomeres/chm13v2.0_telomere.bed\")\n",
    "    GFF_PATH = Path(\"/storage/group/izg5139/default/nicole/datasets/GCF_009914755.1_T2T-CHM13v2.0_genomic.gff.gz\")\n",
    "    GENOME_PATH = Path(\"/storage/group/izg5139/default/nicole/g4_RTR/genome.txt\")\n",
    "    PROMOTERS_PATH = Path(\"/storage/group/izg5139/default/nicole/datasets/promoters.expanded.bed.gz\")\n",
    "else:\n",
    "    REGEX_PATH = Path(\"chm13v2_regex_motifs.txt\")\n",
    "    G4_PATH = Path(\"chm13v2_g4hunter.txt\")\n",
    "    CENTROMERE_PATH = Path(\"datasets/chm13v2.0_censat_v2.1.bed\")\n",
    "    TELOMERE_PATH = Path(\"datasets/chm13v2.0_telomere.bed\")\n",
    "    CYTOBAND_PATH = Path(\"datasets/chm13v2.0_cytobands_allchrs.bed\")\n",
    "    GENOME_PATH = Path(\"genome.txt\")\n",
    "    GFF_PATH = Path(\"datasets/GCF_009914755.1_T2T-CHM13v2.0_genomic.gff.gz\")\n",
    "    PROMOTERS_PATH = Path(\"datasets/promoters.expanded.bed\")\n",
    "\n",
    "%load_ext autoreload\n",
    "%autoreload 2"
   ]
  },
  {
   "cell_type": "code",
   "execution_count": null,
   "id": "74ced9f2-ca0e-4d2b-9ad5-c90e7f9d8650",
   "metadata": {},
   "outputs": [],
   "source": []
  }
 ],
 "metadata": {
  "kernelspec": {
   "display_name": "Python 3 (ipykernel)",
   "language": "python",
   "name": "python3"
  },
  "language_info": {
   "codemirror_mode": {
    "name": "ipython",
    "version": 3
   },
   "file_extension": ".py",
   "mimetype": "text/x-python",
   "name": "python",
   "nbconvert_exporter": "python",
   "pygments_lexer": "ipython3",
   "version": "3.11.7"
  }
 },
 "nbformat": 4,
 "nbformat_minor": 5
}
